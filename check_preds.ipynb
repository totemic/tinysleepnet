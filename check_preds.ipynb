{
 "cells": [
  {
   "cell_type": "code",
   "execution_count": 13,
   "metadata": {},
   "outputs": [],
   "source": [
    "import numpy as np\n",
    "import matplotlib.pyplot as plt"
   ]
  },
  {
   "cell_type": "code",
   "execution_count": 32,
   "metadata": {},
   "outputs": [
    {
     "name": "stdout",
     "output_type": "stream",
     "text": [
      "(4, 1227)\n"
     ]
    },
    {
     "data": {
      "image/png": "[encoded data removed]",
      "text/plain": [
       "<Figure size 432x288 with 1 Axes>"
      ]
     },
     "metadata": {
      "needs_background": "light"
     },
     "output_type": "display_data"
    }
   ],
   "source": [
    "def _load(fn):\n",
    "    return np.load(fn)['stages']\n",
    "\n",
    "def _plot(xx):\n",
    "    print(xx.shape)\n",
    "    for kk in range(4):\n",
    "        # plt.figure()\n",
    "        # plt.scatter(np.arange(xx.shape[1]), xx[kk], alpha=1)\n",
    "        plt.scatter(np.arange(xx.shape[1]), xx[kk], alpha=1)\n",
    "\n",
    "fn='session_export/D01/A0005/1626150859.416/ds_stages_1626150859.416.npz'\n",
    "# fn='session_export/D03/A0004/1626764751.519/ds_stages_1626764751.519.npz'\n",
    "\n",
    "xx=_load(fn)\n",
    "_plot(xx) "
   ]
  },
  {
   "cell_type": "code",
   "execution_count": null,
   "metadata": {},
   "outputs": [],
   "source": [
    "zdat = np.load('out_sleepedf/predict/new_pred_test.npz')\n",
    "plt.scatter(np.arange(len(zdat['y_pred'])), zdat['y_pred'])\n",
    "plt.figure()\n",
    "zdat = np.load('out_sleepedf/predict/new_pred_test1.npz')\n",
    "plt.scatter(np.arange(len(zdat['y_pred'])), zdat['y_pred'])"
   ]
  },
  {
   "cell_type": "code",
   "execution_count": null,
   "metadata": {},
   "outputs": [],
   "source": [
    "from scipy.signal import resample\n",
    "\n",
    "eeg_path = '/nfs/homes/prince/ml/sleep_staging/session_export/D03/A0004/1625897580.406/eeg_1625897580.406.npz'\n",
    "zdata = np.load(eeg_path)\n",
    "eeg_ts = zdata['ts_array']\n",
    "eeg_data = zdata['eeg_array']\n",
    "eeg_val = zdata['valid_array']\n",
    "\n",
    "wlen_s = 30\n",
    "wlen = 256 * wlen_s\n",
    "mod_data = -1 * (eeg_data.shape[0]%wlen)\n",
    "m_aug_data = eeg_data[:mod_data]\n",
    "re_aug_data = m_aug_data.reshape(int(m_aug_data.shape[0]/wlen),wlen,4)\n",
    "\n",
    "ore_aug_data = re_aug_data[:,:,1]\n",
    "resampled_aug = np.array([resample(x-np.mean(x), 3000) for x in ore_aug_data])\n",
    "ocx = resampled_aug.reshape(resampled_aug.shape[0], resampled_aug.shape[1], 1, 1)\n",
    "ocy = np.zeros(len(ocx))"
   ]
  },
  {
   "cell_type": "code",
   "execution_count": null,
   "metadata": {},
   "outputs": [],
   "source": [
    "# 4896/256\n",
    "# print(m_aug_data.shape, re_aug_data.shape, resampled_aug.shape, ocx.shape)\n",
    "# print([kk for kk in range(5,10,2)])\n",
    "\n",
    "ocx = np.load('0-1.npy')[:,:,0,0]\n",
    "xx = np.load('0.npy')[:,:,0,0]\n",
    "\n",
    "print(ocx.shape, xx.shape)\n",
    "for kk in range(110,200,10):\n",
    "    plt.figure()\n",
    "    plt.title('muse')\n",
    "    plt.plot(ocx[kk])\n",
    "    plt.figure()\n",
    "    plt.title('data')\n",
    "    plt.plot(xx[kk])\n"
   ]
  },
  {
   "cell_type": "code",
   "execution_count": null,
   "metadata": {},
   "outputs": [],
   "source": [
    "for kk in range(110,120):\n",
    "    plt.figure()\n",
    "    plt.plot(ore_aug_data[kk])\n",
    "    plt.figure()\n",
    "    plt.plot(resampled_aug[kk])\n"
   ]
  }
 ],
 "metadata": {
  "interpreter": {
   "hash": "b8e73d370bf54c1d0d61135333a78b75d2cd2af0206a0e2472e3c2b348db0c6d"
  },
  "kernelspec": {
   "display_name": "Python 3.6.13 64-bit ('tinysleepnet': conda)",
   "language": "python",
   "name": "python3"
  },
  "language_info": {
   "codemirror_mode": {
    "name": "ipython",
    "version": 3
   },
   "file_extension": ".py",
   "mimetype": "text/x-python",
   "name": "python",
   "nbconvert_exporter": "python",
   "pygments_lexer": "ipython3",
   "version": "3.6.13"
  },
  "orig_nbformat": 4
 },
 "nbformat": 4,
 "nbformat_minor": 2
}
