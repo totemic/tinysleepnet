{
 "cells": [
  {
   "cell_type": "code",
   "execution_count": 1,
   "metadata": {},
   "outputs": [],
   "source": [
    "import numpy as np\n",
    "import matplotlib.pyplot as plt\n",
    "from pathlib import Path\n",
    "from matplotlib.backends.backend_pdf import PdfPages\n",
    "import re"
   ]
  },
  {
   "cell_type": "code",
   "execution_count": 3,
   "metadata": {},
   "outputs": [],
   "source": [
    "def _load(fi, fn):\n",
    "    return np.load(fi)['eeg_array'], np.load(fn)['stages']\n",
    "\n",
    "def _plot(xx, ss, name):\n",
    "    plt.figure(figsize=(16, 6), dpi=80)\n",
    "    for kk in range(4):\n",
    "        plt.subplot(2,4,kk+1)\n",
    "        if kk==0: plt.title(name)\n",
    "        plt.plot(xx[::256*30,kk])\n",
    "    for kk in range(4):\n",
    "        plt.subplot(2,4,kk+5)\n",
    "        plt.scatter(np.arange(ss.shape[1]), ss[kk])\n",
    "\n",
    "with PdfPages('report.pdf') as pdf:\n",
    "    # fll = [str(ss) for ss in Path('session_export/').rglob('ds_stages*.npz')]\n",
    "    fll = [str(ss) for ss in Path('session_export/').rglob('eeg_*.npz')]\n",
    "    # fno = re.sub('eeg_', 'ds_stages_',fn)\n",
    "\n",
    "    for fi in fll:\n",
    "        fn = re.sub('eeg_', 'ds_stages_',fi)\n",
    "        name = re.sub('session_export','',fn)\n",
    "        name = re.sub('/ds.*','',name)\n",
    "        _plot(*_load(fi, fn), name)\n",
    "        plt.show() ; break\n",
    "        pdf.savefig()\n",
    "        plt.close()\n"
   ]
  }
 ],
 "metadata": {
  "interpreter": {
   "hash": "b8e73d370bf54c1d0d61135333a78b75d2cd2af0206a0e2472e3c2b348db0c6d"
  },
  "kernelspec": {
   "display_name": "Python 3.6.13 64-bit ('tinysleepnet': conda)",
   "language": "python",
   "name": "python3"
  },
  "language_info": {
   "codemirror_mode": {
    "name": "ipython",
    "version": 3
   },
   "file_extension": ".py",
   "mimetype": "text/x-python",
   "name": "python",
   "nbconvert_exporter": "python",
   "pygments_lexer": "ipython3",
   "version": "3.6.13"
  },
  "orig_nbformat": 4
 },
 "nbformat": 4,
 "nbformat_minor": 2
}
